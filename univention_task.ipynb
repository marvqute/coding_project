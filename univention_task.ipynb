{
 "cells": [
  {
   "cell_type": "code",
   "execution_count": 1,
   "id": "40040b0b",
   "metadata": {},
   "outputs": [
    {
     "name": "stdout",
     "output_type": "stream",
     "text": [
      "Schätzen Sie eine Zahl zwischen 1 und 100\n",
      "40\n",
      "Versuchen Sie es mit Niedriger\n",
      "Schätzen Sie eine Zahl zwischen 1 und 100\n",
      "20\n",
      "Versuchen Sie es mit Höher\n",
      "Schätzen Sie eine Zahl zwischen 1 und 100\n",
      "25\n",
      "Versuchen Sie es mit Höher\n",
      "Schätzen Sie eine Zahl zwischen 1 und 100\n",
      "30\n",
      "Versuchen Sie es mit Höher\n",
      "Schätzen Sie eine Zahl zwischen 1 und 100\n",
      "35\n",
      "Versuchen Sie es mit Niedriger\n",
      "Schätzen Sie eine Zahl zwischen 1 und 100\n",
      "33\n",
      "Versuchen Sie es mit Höher\n",
      "Schätzen Sie eine Zahl zwischen 1 und 100\n",
      "34\n",
      "Du hast gewonnen!!!\n",
      "wenn Sie weniger als 6 Mal getippt haben, haben Sie gewonnen\n"
     ]
    }
   ],
   "source": [
    "import random\n",
    "num = random.randint(1, 100)\n",
    "while True:\n",
    "    print('Schätzen Sie eine Zahl zwischen 1 und 100')\n",
    "    guess = input()\n",
    "    i = int(guess)\n",
    "    if i == num:\n",
    "        print('Du hast gewonnen!!!')\n",
    "        break\n",
    "    elif i < num:\n",
    "               print('Versuchen Sie es mit Höher')\n",
    "    elif i > num:\n",
    "               print('Versuchen Sie es mit Niedriger')\n",
    "#any recommendations for the game end\n",
    "print('wenn Sie weniger als 6 Mal getippt haben, haben Sie gewonnen')"
   ]
  },
  {
   "cell_type": "code",
   "execution_count": 1,
   "id": "d43850ff",
   "metadata": {},
   "outputs": [],
   "source": []
  },
  {
   "cell_type": "code",
   "execution_count": null,
   "id": "c8290289",
   "metadata": {},
   "outputs": [],
   "source": []
  }
 ],
 "metadata": {
  "kernelspec": {
   "display_name": "Python 3 (ipykernel)",
   "language": "python",
   "name": "python3"
  },
  "language_info": {
   "codemirror_mode": {
    "name": "ipython",
    "version": 3
   },
   "file_extension": ".py",
   "mimetype": "text/x-python",
   "name": "python",
   "nbconvert_exporter": "python",
   "pygments_lexer": "ipython3",
   "version": "3.9.12"
  }
 },
 "nbformat": 4,
 "nbformat_minor": 5
}
